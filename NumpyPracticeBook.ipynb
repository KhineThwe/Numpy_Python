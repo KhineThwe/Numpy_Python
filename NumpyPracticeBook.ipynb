{
 "cells": [
  {
   "cell_type": "markdown",
   "id": "6e0bf8f1",
   "metadata": {
    "heading_collapsed": true
   },
   "source": [
    "## Empty and Full Numpy arrays"
   ]
  },
  {
   "cell_type": "code",
   "execution_count": 3,
   "id": "2397a5e3",
   "metadata": {
    "hidden": true
   },
   "outputs": [
    {
     "name": "stdout",
     "output_type": "stream",
     "text": [
      "Empty Array\n",
      "[[0 0 0 0]\n",
      " [0 0 0 0]\n",
      " [0 0 0 0]]\n",
      "\n",
      " Full Array\n",
      "[[55 55 55]\n",
      " [55 55 55]\n",
      " [55 55 55]]\n"
     ]
    }
   ],
   "source": [
    "import numpy as np\n",
    "  \n",
    "  \n",
    "#Create an empty array\n",
    "empa = np.empty((3, 4), dtype=int)\n",
    "print(\"Empty Array\")\n",
    "print(empa)\n",
    "  \n",
    "# Create a full array\n",
    "flla = np.full([3, 3], 55, dtype=int)\n",
    "print(\"\\n Full Array\")\n",
    "print(flla)"
   ]
  },
  {
   "cell_type": "markdown",
   "id": "3334b40a",
   "metadata": {
    "heading_collapsed": true
   },
   "source": [
    "## Print full Numpy array without truncation"
   ]
  },
  {
   "cell_type": "code",
   "execution_count": 6,
   "id": "9b30b968",
   "metadata": {
    "hidden": true
   },
   "outputs": [
    {
     "name": "stdout",
     "output_type": "stream",
     "text": [
      "[   0    1    2 ...  998  999 1000]\n",
      "[  0   1   2   3   4   5   6   7   8   9  10  11  12  13  14  15  16  17\n",
      "  18  19  20  21  22  23  24  25  26  27  28  29  30  31  32  33  34  35\n",
      "  36  37  38  39  40  41  42  43  44  45  46  47  48  49  50  51  52  53\n",
      "  54  55  56  57  58  59  60  61  62  63  64  65  66  67  68  69  70  71\n",
      "  72  73  74  75  76  77  78  79  80  81  82  83  84  85  86  87  88  89\n",
      "  90  91  92  93  94  95  96  97  98  99 100]\n"
     ]
    }
   ],
   "source": [
    "import numpy as np\n",
    "arr = np.arange(1001)\n",
    "print(arr)\n",
    "\n",
    "#using numpy.set_printoptions()\n",
    "#syntax: numpy.set_printoptions(threshold=None, edgeitems=None, linewidth=None, suppress=None)\n",
    "\n",
    "import sys\n",
    "# Creating a 1-D array with 100 values\n",
    "arr = np.arange(101)\n",
    " \n",
    "# Printing all values of array without truncation\n",
    "np.set_printoptions(threshold=sys.maxsize)\n",
    "print(arr)"
   ]
  },
  {
   "cell_type": "markdown",
   "id": "a8f98c66",
   "metadata": {
    "heading_collapsed": true
   },
   "source": [
    "## Searching max and min element "
   ]
  },
  {
   "cell_type": "code",
   "execution_count": 13,
   "id": "3a92ffb6",
   "metadata": {
    "hidden": true
   },
   "outputs": [
    {
     "name": "stdout",
     "output_type": "stream",
     "text": [
      "[[ 0  1  2  3]\n",
      " [ 4  5  6  7]\n",
      " [ 8  9 10 11]\n",
      " [12 13 14 15]\n",
      " [16 17 18 19]]\n",
      "19\n",
      "[3 3 3 3 3]\n",
      "[4 4 4 4]\n",
      "[[ 3  7  1]\n",
      " [10  3  2]\n",
      " [ 5  6  7]]\n",
      "[ 1  2  3  3  5  6  7  7 10]\n",
      "[[ 1  3  7]\n",
      " [ 2  3 10]\n",
      " [ 5  6  7]]\n",
      "[[ 3  3  1]\n",
      " [ 5  6  2]\n",
      " [10  7  7]]\n"
     ]
    }
   ],
   "source": [
    "#numpy.argmax( )\n",
    "import numpy as np\n",
    "\n",
    "# Creating 5x4 array\n",
    "array = np.arange(20).reshape(5, 4)\n",
    "print(array)\n",
    "\n",
    "# If no axis mentioned, then it works on the entire array\n",
    "print(np.argmax(array))\n",
    "\n",
    "# If axis=1, then it works on each row\n",
    "print(np.argmax(array, axis=1))\n",
    "\n",
    "# If axis=0, then it works on each column\n",
    "print(np.argmax(array, axis=0))\n",
    "\n",
    "\n",
    "array1 = np.array([\n",
    "    [3, 7, 1],\n",
    "    [10, 3, 2],\n",
    "    [5, 6, 7]\n",
    "])\n",
    "print(array1)\n",
    "\n",
    "# Sort the whole array\n",
    "print(np.sort(array1, axis=None))\n",
    "\n",
    "# Sort along each row\n",
    "print(np.sort(array1, axis=1))\n",
    "\n",
    "# Sort along each column\n",
    "print(np.sort(array1, axis=0))"
   ]
  },
  {
   "cell_type": "markdown",
   "id": "58799900",
   "metadata": {},
   "source": [
    "## Checkboard Pattern"
   ]
  },
  {
   "cell_type": "code",
   "execution_count": 14,
   "id": "19831c20",
   "metadata": {},
   "outputs": [
    {
     "name": "stdout",
     "output_type": "stream",
     "text": [
      "0 1 0 1 0 1 0 1 \n",
      "1 0 1 0 1 0 1 0 \n",
      "0 1 0 1 0 1 0 1 \n",
      "1 0 1 0 1 0 1 0 \n",
      "0 1 0 1 0 1 0 1 \n",
      "1 0 1 0 1 0 1 0 \n",
      "0 1 0 1 0 1 0 1 \n",
      "1 0 1 0 1 0 1 0 \n"
     ]
    }
   ],
   "source": [
    "import numpy as np\n",
    "\n",
    "n = 8\n",
    "\n",
    "# Create a nxn matrix filled with 0\n",
    "matrix = np.zeros((n, n), dtype=int)\n",
    "\n",
    "# fill 1 with alternate rows and column\n",
    "matrix[::2, 1::2] = 1\n",
    "matrix[1::2, ::2] = 1\n",
    "\n",
    "# Print the checkerboard pattern\n",
    "for i in range(n):\n",
    "    for j in range(n):\n",
    "        print(matrix[i][j], end=\" \")\n",
    "    print()"
   ]
  },
  {
   "cell_type": "markdown",
   "id": "3b674a75",
   "metadata": {},
   "source": [
    "## Multiply Two Matrices"
   ]
  },
  {
   "cell_type": "code",
   "execution_count": 15,
   "id": "5e03bd29",
   "metadata": {},
   "outputs": [
    {
     "name": "stdout",
     "output_type": "stream",
     "text": [
      "[[19 67 63]\n",
      " [25 84 97]\n",
      " [20 75 95]]\n"
     ]
    }
   ],
   "source": [
    "import numpy as np\n",
    "\n",
    "matrix1 = [\n",
    "    [3, 4, 2],\n",
    "    [5, 1, 8],\n",
    "    [3, 1, 9]\n",
    "]\n",
    "\n",
    "matrix2 = [\n",
    "    [3, 7, 5],\n",
    "    [2, 9, 8],\n",
    "    [1, 5, 8]\n",
    "]\n",
    "\n",
    "result = np.dot(matrix1, matrix2)\n",
    "print(result)"
   ]
  },
  {
   "cell_type": "markdown",
   "id": "f425d238",
   "metadata": {},
   "source": [
    "## Reverser Numpy array"
   ]
  },
  {
   "cell_type": "code",
   "execution_count": 16,
   "id": "b3233bcd",
   "metadata": {},
   "outputs": [
    {
     "name": "stdout",
     "output_type": "stream",
     "text": [
      "[8 1 5 2 7 6 3]\n"
     ]
    }
   ],
   "source": [
    "import numpy as np\n",
    "\n",
    "array = np.array([3, 6, 7, 2, 5, 1, 8])\n",
    "reversedArray = np.flipud(array)\n",
    "print(reversedArray)\n",
    "\n",
    "#Source link --> https://www.w3resource.com/python-exercises/numpy/index.php"
   ]
  },
  {
   "cell_type": "markdown",
   "id": "69555de6",
   "metadata": {},
   "source": [
    "## Multiplication of two matrixes"
   ]
  },
  {
   "cell_type": "code",
   "execution_count": 21,
   "id": "0d2556b0",
   "metadata": {},
   "outputs": [
    {
     "name": "stdout",
     "output_type": "stream",
     "text": [
      "original matrix:\n",
      "[[1, 0], [0, 1]]\n",
      "[[1, 2], [3, 4]]\n",
      "Result of the said matrix multiplication:\n",
      "[[1 2]\n",
      " [3 4]]\n"
     ]
    },
    {
     "ename": "NameError",
     "evalue": "name 'result2' is not defined",
     "output_type": "error",
     "traceback": [
      "\u001b[1;31m---------------------------------------------------------------------------\u001b[0m",
      "\u001b[1;31mNameError\u001b[0m                                 Traceback (most recent call last)",
      "\u001b[1;32m~\\AppData\\Local\\Temp\\ipykernel_3628\\4119363341.py\u001b[0m in \u001b[0;36m<module>\u001b[1;34m\u001b[0m\n\u001b[0;32m      8\u001b[0m \u001b[0mprint\u001b[0m\u001b[1;33m(\u001b[0m\u001b[1;34m\"Result of the said matrix multiplication:\"\u001b[0m\u001b[1;33m)\u001b[0m\u001b[1;33m\u001b[0m\u001b[1;33m\u001b[0m\u001b[0m\n\u001b[0;32m      9\u001b[0m \u001b[0mprint\u001b[0m\u001b[1;33m(\u001b[0m\u001b[0mresult1\u001b[0m\u001b[1;33m)\u001b[0m\u001b[1;33m\u001b[0m\u001b[1;33m\u001b[0m\u001b[0m\n\u001b[1;32m---> 10\u001b[1;33m \u001b[0mprint\u001b[0m\u001b[1;33m(\u001b[0m\u001b[0mresult2\u001b[0m\u001b[1;33m)\u001b[0m\u001b[1;33m\u001b[0m\u001b[1;33m\u001b[0m\u001b[0m\n\u001b[0m",
      "\u001b[1;31mNameError\u001b[0m: name 'result2' is not defined"
     ]
    }
   ],
   "source": [
    "import numpy as np\n",
    "p = [[1, 0], [0, 1]]\n",
    "q = [[1, 2], [3, 4]]\n",
    "print(\"original matrix:\")\n",
    "print(p)\n",
    "print(q)\n",
    "result1 = np.dot(p, q)\n",
    "print(\"Result of the said matrix multiplication:\")\n",
    "print(result1)\n",
    "print(result2)"
   ]
  }
 ],
 "metadata": {
  "kernelspec": {
   "display_name": "Python 3 (ipykernel)",
   "language": "python",
   "name": "python3"
  },
  "language_info": {
   "codemirror_mode": {
    "name": "ipython",
    "version": 3
   },
   "file_extension": ".py",
   "mimetype": "text/x-python",
   "name": "python",
   "nbconvert_exporter": "python",
   "pygments_lexer": "ipython3",
   "version": "3.9.13"
  },
  "varInspector": {
   "cols": {
    "lenName": 16,
    "lenType": 16,
    "lenVar": 40
   },
   "kernels_config": {
    "python": {
     "delete_cmd_postfix": "",
     "delete_cmd_prefix": "del ",
     "library": "var_list.py",
     "varRefreshCmd": "print(var_dic_list())"
    },
    "r": {
     "delete_cmd_postfix": ") ",
     "delete_cmd_prefix": "rm(",
     "library": "var_list.r",
     "varRefreshCmd": "cat(var_dic_list()) "
    }
   },
   "types_to_exclude": [
    "module",
    "function",
    "builtin_function_or_method",
    "instance",
    "_Feature"
   ],
   "window_display": false
  }
 },
 "nbformat": 4,
 "nbformat_minor": 5
}
